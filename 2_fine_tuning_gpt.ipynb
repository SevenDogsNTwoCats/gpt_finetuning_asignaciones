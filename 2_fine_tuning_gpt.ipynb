{
 "cells": [
  {
   "cell_type": "code",
   "execution_count": 1,
   "metadata": {},
   "outputs": [
    {
     "name": "stdout",
     "output_type": "stream",
     "text": [
      "ID del archivo subido: FileObject(id='file-wkCoqjKJwK3AwaUVLXBgbaZh', bytes=388218, created_at=1726867954, filename='data_fine_tuning_hexing_consultas_v2.jsonl', object='file', purpose='fine-tune', status='processed', status_details=None)\n"
     ]
    },
    {
     "data": {
      "text/plain": [
       "\"\\nID del archivo subido: FileObject(id='file-GzO6S2sCz6ZAUdrf8WT8TNJh', bytes=2799466, created_at=1725392978, filename='fine_tuning_data_hexing_970kT_v1.jsonl', object='file', purpose='fine-tune', status='processed', status_details=None)\\nID del archivo subido: FileObject(id='file-N6VXiPOyMBIzDMMeM2kxOim6', bytes=762886, created_at=1725394610, filename='dataset_fine_tuning_hexing.jsonl', object='file', purpose='fine-tune', status='processed', status_details=None)\\nID del archivo subido: FileObject(id='file-8n5CSRo1dIPehtJ3cCslwXZ8', bytes=59218, created_at=1725462884, filename='alarmas_hexing.jsonl', object='file', purpose='fine-tune', status='processed', status_details=None)\\nID del archivo subido: FileObject(id='file-QQUpr6LN1EUdQiAPganBIlnA', bytes=459746, created_at=1725634213, filename='fine_tuning_disminucion_hexing.jsonl', object='file', purpose='fine-tune', status='processed', status_details=None)\\n\\nID del archivo subido: FileObject(id='file-HFbPTlyiKtMP6TnUiB8WD1RP', bytes=503220, created_at=1726672188, filename='fine_tuning_disminucion_hexing.jsonl', object='file', purpose='fine-tune', status='processed', status_details=None)\\n\\nID del archivo subido: FileObject(id='file-O1smvfZBf3DvB7c09YGpbQt0', bytes=762886, created_at=1726758691, filename='dataset_fine_tuning_hexing.jsonl', object='file', purpose='fine-tune', status='processed', status_details=None)\\n\\nID del archivo subido: FileObject(id='file-uILFNC3ecUDfJ9J8BkwtrkJr', bytes=149706, created_at=1726847413, filename='data_fine_tuning_hexing_consultas.jsonl', object='file', purpose='fine-tune', status='processed', status_details=None)\\n\\nID del archivo subido: FileObject(id='file-sTBaST4RsSDckLOA2hBokMsO', bytes=152518, created_at=1726848589, filename='data_fine_tuning_hexing_consultas.jsonl', object='file', purpose='fine-tune', status='processed', status_details=None)\\n\\n\""
      ]
     },
     "execution_count": 1,
     "metadata": {},
     "output_type": "execute_result"
    }
   ],
   "source": [
    "import openai\n",
    "import os\n",
    "from dotenv import load_dotenv\n",
    "\n",
    "load_dotenv()\n",
    "\n",
    "api_key = os.getenv(\"TOKEN\")\n",
    "client = openai.OpenAI(api_key=api_key)\n",
    "response = client.files.create(\n",
    "    file=open(\"data_fine_tuning_hexing_consultas_v2.jsonl\", \"rb\"),\n",
    "    purpose='fine-tune',\n",
    ")\n",
    "\n",
    "print(\"ID del archivo subido:\", response)\n",
    "\n",
    "\n",
    "\n",
    "\"\"\"\n",
    "ID del archivo subido: FileObject(id='file-GzO6S2sCz6ZAUdrf8WT8TNJh', bytes=2799466, created_at=1725392978, filename='fine_tuning_data_hexing_970kT_v1.jsonl', object='file', purpose='fine-tune', status='processed', status_details=None)\n",
    "ID del archivo subido: FileObject(id='file-N6VXiPOyMBIzDMMeM2kxOim6', bytes=762886, created_at=1725394610, filename='dataset_fine_tuning_hexing.jsonl', object='file', purpose='fine-tune', status='processed', status_details=None)\n",
    "ID del archivo subido: FileObject(id='file-8n5CSRo1dIPehtJ3cCslwXZ8', bytes=59218, created_at=1725462884, filename='alarmas_hexing.jsonl', object='file', purpose='fine-tune', status='processed', status_details=None)\n",
    "ID del archivo subido: FileObject(id='file-QQUpr6LN1EUdQiAPganBIlnA', bytes=459746, created_at=1725634213, filename='fine_tuning_disminucion_hexing.jsonl', object='file', purpose='fine-tune', status='processed', status_details=None)\n",
    "\n",
    "ID del archivo subido: FileObject(id='file-HFbPTlyiKtMP6TnUiB8WD1RP', bytes=503220, created_at=1726672188, filename='fine_tuning_disminucion_hexing.jsonl', object='file', purpose='fine-tune', status='processed', status_details=None)\n",
    "\n",
    "ID del archivo subido: FileObject(id='file-O1smvfZBf3DvB7c09YGpbQt0', bytes=762886, created_at=1726758691, filename='dataset_fine_tuning_hexing.jsonl', object='file', purpose='fine-tune', status='processed', status_details=None)\n",
    "\n",
    "ID del archivo subido: FileObject(id='file-uILFNC3ecUDfJ9J8BkwtrkJr', bytes=149706, created_at=1726847413, filename='data_fine_tuning_hexing_consultas.jsonl', object='file', purpose='fine-tune', status='processed', status_details=None)\n",
    "\n",
    "ID del archivo subido: FileObject(id='file-sTBaST4RsSDckLOA2hBokMsO', bytes=152518, created_at=1726848589, filename='data_fine_tuning_hexing_consultas.jsonl', object='file', purpose='fine-tune', status='processed', status_details=None)\n",
    "\n",
    "ID del archivo subido: FileObject(id='file-wkCoqjKJwK3AwaUVLXBgbaZh', bytes=388218, created_at=1726867954, filename='data_fine_tuning_hexing_consultas_v2.jsonl', object='file', purpose='fine-tune', status='processed', status_details=None)\n",
    "\n",
    "\"\"\"\n",
    "\n"
   ]
  },
  {
   "cell_type": "code",
   "execution_count": 2,
   "metadata": {},
   "outputs": [
    {
     "name": "stdout",
     "output_type": "stream",
     "text": [
      "FineTuningJob(id='ftjob-R5W1UGZDGbmbd0O3oOthAiWe', created_at=1726867974, error=Error(code=None, message=None, param=None), fine_tuned_model=None, finished_at=None, hyperparameters=Hyperparameters(n_epochs='auto', batch_size='auto', learning_rate_multiplier='auto'), model='ft:gpt-4o-mini-2024-07-18:personal:modelo-hexing-fine-tuning-consultas-v3:A9aaSCsu', object='fine_tuning.job', organization_id='org-ZLtIC32rfZQgI0ZpY2QetCzY', result_files=[], seed=459633285, status='validating_files', trained_tokens=None, training_file='file-wkCoqjKJwK3AwaUVLXBgbaZh', validation_file=None, estimated_finish=None, integrations=[], user_provided_suffix='modelo_hexing_fine_tuning_consultas_v4')\n"
     ]
    },
    {
     "data": {
      "text/plain": [
       "\"\\nFineTuningJob(\\nid='ftjob-V9gsFdsq7ltTAByCMapxEyGB', \\ncreated_at=1725384943, \\nerror=Error(code=None, message=None, param=None), \\nfine_tuned_model=None, finished_at=None, \\nhyperparameters=Hyperparameters(n_epochs='auto', batch_size='auto', learning_rate_multiplier='auto'), \\nmodel='gpt-4o-mini-2024-07-18', \\nobject='fine_tuning.job', \\norganization_id='org-ZLtIC32rfZQgI0ZpY2QetCzY', \\nresult_files=[], seed=634903305, \\nstatus='validating_files', \\ntrained_tokens=None, \\ntraining_file='file-MM0jcLVHc9K3pm1l6xwxL0Pr', \\nvalidation_file=None, estimated_finish=None,\\nintegrations=[], user_provided_suffix=None)\\n\\nFineTuningJob(id='ftjob-sMHhZwdHhqn2PBcGypJuFQHi', created_at=1725393010, error=Error(code=None, message=None, param=None), fine_tuned_model=None, finished_at=None, hyperparameters=Hyperparameters(n_epochs='auto', batch_size='auto', learning_rate_multiplier='auto'), model='gpt-4o-mini-2024-07-18', object='fine_tuning.job', organization_id='org-ZLtIC32rfZQgI0ZpY2QetCzY', result_files=[], seed=1264219753, status='validating_files', trained_tokens=None, training_file='file-GzO6S2sCz6ZAUdrf8WT8TNJh', validation_file=None, estimated_finish=None, integrations=[], user_provided_suffix=None)\\nFineTuningJob(id='ftjob-FlShzuGzUBqiZWyXMrWTGb3b', created_at=1725394640, error=Error(code=None, message=None, param=None), fine_tuned_model=None, finished_at=None, hyperparameters=Hyperparameters(n_epochs='auto', batch_size='auto', learning_rate_multiplier='auto'), model='gpt-4o-mini-2024-07-18', object='fine_tuning.job', organization_id='org-ZLtIC32rfZQgI0ZpY2QetCzY', result_files=[], seed=717933360, status='validating_files', trained_tokens=None, training_file='file-N6VXiPOyMBIzDMMeM2kxOim6', validation_file=None, estimated_finish=None, integrations=[], user_provided_suffix=None)\\nFineTuningJob(id='ftjob-UqsOkksKLXbiPa5akLVFxcGM', created_at=1725462903, error=Error(code=None, message=None, param=None), fine_tuned_model=None, finished_at=None, hyperparameters=Hyperparameters(n_epochs='auto', batch_size='auto', learning_rate_multiplier='auto'), model='gpt-4o-mini-2024-07-18', object='fine_tuning.job', organization_id='org-ZLtIC32rfZQgI0ZpY2QetCzY', result_files=[], seed=591586773, status='validating_files', trained_tokens=None, training_file='file-8n5CSRo1dIPehtJ3cCslwXZ8', validation_file=None, estimated_finish=None, integrations=[], user_provided_suffix=None)\\nFineTuningJob(id='ftjob-YwkyWKD16WemE3aA2GE5Y6OP', created_at=1725467757, error=Error(code=None, message=None, param=None), fine_tuned_model=None, finished_at=None, hyperparameters=Hyperparameters(n_epochs='auto', batch_size='auto', learning_rate_multiplier='auto'), model='ft:gpt-4o-mini-2024-07-18:personal::A3UiuJ83', object='fine_tuning.job', organization_id='org-ZLtIC32rfZQgI0ZpY2QetCzY', result_files=[], seed=703587070, status='validating_files', trained_tokens=None, training_file='file-8n5CSRo1dIPehtJ3cCslwXZ8', validation_file=None, estimated_finish=None, integrations=[], user_provided_suffix=None)\\nFineTuningJob(id='ftjob-YbAujc8Pzina5H288GAXHZmg', created_at=1725634310, error=Error(code=None, message=None, param=None), fine_tuned_model=None, finished_at=None, hyperparameters=Hyperparameters(n_epochs='auto', batch_size='auto', learning_rate_multiplier='auto'), model='ft:gpt-4o-mini-2024-07-18:personal::A3UiuJ83', object='fine_tuning.job', organization_id='org-ZLtIC32rfZQgI0ZpY2QetCzY', result_files=[], seed=1810482184, status='validating_files', trained_tokens=None, training_file='file-QQUpr6LN1EUdQiAPganBIlnA', validation_file=None, estimated_finish=None, integrations=[], user_provided_suffix='modelo_hexing')\\n\\nFineTuningJob(id='ftjob-gLW9Zds8m74ofWlRjdKkTtsP', created_at=1726669317, error=Error(code=None, message=None, param=None), fine_tuned_model=None, finished_at=None, hyperparameters=Hyperparameters(n_epochs='auto', batch_size='auto', learning_rate_multiplier='auto'), model='gpt-4o-mini-2024-07-18', object='fine_tuning.job', organization_id='org-ZLtIC32rfZQgI0ZpY2QetCzY', result_files=[], seed=2088931908, status='validating_files', trained_tokens=None, training_file='file-QQUpr6LN1EUdQiAPganBIlnA', validation_file=None, estimated_finish=None, integrations=[], user_provided_suffix='modelo_hexing_fine_tuning')\\n\\nFineTuningJob(id='ftjob-0x34l0e2ZeTIecLKTePX5BNZ', created_at=1726672204, error=Error(code=None, message=None, param=None), fine_tuned_model=None, finished_at=None, hyperparameters=Hyperparameters(n_epochs='auto', batch_size='auto', learning_rate_multiplier='auto'), model='gpt-4o-mini-2024-07-18', object='fine_tuning.job', organization_id='org-ZLtIC32rfZQgI0ZpY2QetCzY', result_files=[], seed=673506803, status='validating_files', trained_tokens=None, training_file='file-HFbPTlyiKtMP6TnUiB8WD1RP', validation_file=None, estimated_finish=None, integrations=[], user_provided_suffix='modelo_hexing_fine_tuning')\\n\\nFineTuningJob(id='ftjob-dvmCP5Bpx4KchNgKCtQN6fbo', created_at=1726691866, error=Error(code=None, message=None, param=None), fine_tuned_model=None, finished_at=None, hyperparameters=Hyperparameters(n_epochs='auto', batch_size='auto', learning_rate_multiplier='auto'), model='ft:gpt-4o-mini-2024-07-18:personal::A3UiuJ83', object='fine_tuning.job', organization_id='org-ZLtIC32rfZQgI0ZpY2QetCzY', result_files=[], seed=657898752, status='validating_files', trained_tokens=None, training_file='file-HFbPTlyiKtMP6TnUiB8WD1RP', validation_file=None, estimated_finish=None, integrations=[], user_provided_suffix='modelo_hexing_fine_tuning')\\n\\nFineTuningJob(id='ftjob-5gQj7BJvE9af9oBpCkWTtx6Z', created_at=1726694303, error=Error(code=None, message=None, param=None), fine_tuned_model=None, finished_at=None, hyperparameters=Hyperparameters(n_epochs='auto', batch_size='auto', learning_rate_multiplier='auto'), model='ft:gpt-4o-mini-2024-07-18:personal:modelo-hexing-fine-tuning:A8wFoaaW', object='fine_tuning.job', organization_id='org-ZLtIC32rfZQgI0ZpY2QetCzY', result_files=[], seed=893647309, status='validating_files', trained_tokens=None, training_file='file-N6VXiPOyMBIzDMMeM2kxOim6', validation_file=None, estimated_finish=None, integrations=[], user_provided_suffix='modelo_hexing_fine_tuning_v2')\\n\\nBEST_MODEL\\n\\nFineTuningJob(id='ftjob-D2HzlCvluoXrEOnIwo77BaHz', created_at=1726758708, error=Error(code=None, message=None, param=None), fine_tuned_model=None, finished_at=None, hyperparameters=Hyperparameters(n_epochs='auto', batch_size='auto', learning_rate_multiplier='auto'), model='ft:gpt-4o-mini-2024-07-18:personal:modelo-hexing-fine-tuning-v2:A8wv2i7g', object='fine_tuning.job', organization_id='org-ZLtIC32rfZQgI0ZpY2QetCzY', result_files=[], seed=544776902, status='validating_files', trained_tokens=None, training_file='file-O1smvfZBf3DvB7c09YGpbQt0', validation_file=None, estimated_finish=None, integrations=[], user_provided_suffix='modelo_hexing_fine_tuning_v3')\\n\\nFineTuningJob(id='ftjob-RED0iTkoBNIouJR09AWBXiYD', created_at=1726846596, error=Error(code=None, message=None, param=None), fine_tuned_model=None, finished_at=None, hyperparameters=Hyperparameters(n_epochs='auto', batch_size='auto', learning_rate_multiplier='auto'), model='ft:gpt-4o-mini-2024-07-18:personal::A3UiuJ83', object='fine_tuning.job', organization_id='org-ZLtIC32rfZQgI0ZpY2QetCzY', result_files=[], seed=1277692207, status='validating_files', trained_tokens=None, training_file='file-u39M5Zj614FjSZYFqBBueUgw', validation_file=None, estimated_finish=None, integrations=[], user_provided_suffix='modelo_hexing_fine_tuning_consultas')\\n\\nFineTuningJob(id='ftjob-ZP2881VYR9N0eVTRoni9V9px', created_at=1726847469, error=Error(code=None, message=None, param=None), fine_tuned_model=None, finished_at=None, hyperparameters=Hyperparameters(n_epochs='auto', batch_size='auto', learning_rate_multiplier='auto'), model='ft:gpt-4o-mini-2024-07-18:personal::A3UiuJ83', object='fine_tuning.job', organization_id='org-ZLtIC32rfZQgI0ZpY2QetCzY', result_files=[], seed=1494167867, status='validating_files', trained_tokens=None, training_file='file-uILFNC3ecUDfJ9J8BkwtrkJr', validation_file=None, estimated_finish=None, integrations=[], user_provided_suffix='modelo_hexing_fine_tuning_consultas_v2')\\n\\nFineTuningJob(id='ftjob-2aNWVzaJDHwt0UQ45gKBXBpN', created_at=1726848617, error=Error(code=None, message=None, param=None), fine_tuned_model=None, finished_at=None, hyperparameters=Hyperparameters(n_epochs='auto', batch_size='auto', learning_rate_multiplier='auto'), model='ft:gpt-4o-mini-2024-07-18:personal:modelo-hexing-fine-tuning-consultas-v2:A9aHYMoE', object='fine_tuning.job', organization_id='org-ZLtIC32rfZQgI0ZpY2QetCzY', result_files=[], seed=785694480, status='validating_files', trained_tokens=None, training_file='file-sTBaST4RsSDckLOA2hBokMsO', validation_file=None, estimated_finish=None, integrations=[], user_provided_suffix='modelo_hexing_fine_tuning_consultas_v3')\\n\\n\""
      ]
     },
     "execution_count": 2,
     "metadata": {},
     "output_type": "execute_result"
    }
   ],
   "source": [
    "from openai import OpenAI\n",
    "import os\n",
    "from dotenv import load_dotenv\n",
    "\n",
    "load_dotenv()\n",
    "\n",
    "api_key = os.getenv('TOKEN')\n",
    "client = OpenAI(api_key=api_key)\n",
    "\n",
    "\n",
    "response = client.fine_tuning.jobs.create(\n",
    "  training_file=\"file-wkCoqjKJwK3AwaUVLXBgbaZh\",\n",
    "  suffix=\"modelo_hexing_fine_tuning_consultas_v4\",\n",
    "  model='ft:gpt-4o-mini-2024-07-18:personal:modelo-hexing-fine-tuning-consultas-v3:A9aaSCsu' #el modelo a fine tunear\n",
    ")\n",
    "\n",
    "print(response)\n",
    "\n",
    "\"\"\"\n",
    "FineTuningJob(\n",
    "id='ftjob-V9gsFdsq7ltTAByCMapxEyGB', \n",
    "created_at=1725384943, \n",
    "error=Error(code=None, message=None, param=None), \n",
    "fine_tuned_model=None, finished_at=None, \n",
    "hyperparameters=Hyperparameters(n_epochs='auto', batch_size='auto', learning_rate_multiplier='auto'), \n",
    "model='gpt-4o-mini-2024-07-18', \n",
    "object='fine_tuning.job', \n",
    "organization_id='org-ZLtIC32rfZQgI0ZpY2QetCzY', \n",
    "result_files=[], seed=634903305, \n",
    "status='validating_files', \n",
    "trained_tokens=None, \n",
    "training_file='file-MM0jcLVHc9K3pm1l6xwxL0Pr', \n",
    "validation_file=None, estimated_finish=None,\n",
    "integrations=[], user_provided_suffix=None)\n",
    "\n",
    "FineTuningJob(id='ftjob-sMHhZwdHhqn2PBcGypJuFQHi', created_at=1725393010, error=Error(code=None, message=None, param=None), fine_tuned_model=None, finished_at=None, hyperparameters=Hyperparameters(n_epochs='auto', batch_size='auto', learning_rate_multiplier='auto'), model='gpt-4o-mini-2024-07-18', object='fine_tuning.job', organization_id='org-ZLtIC32rfZQgI0ZpY2QetCzY', result_files=[], seed=1264219753, status='validating_files', trained_tokens=None, training_file='file-GzO6S2sCz6ZAUdrf8WT8TNJh', validation_file=None, estimated_finish=None, integrations=[], user_provided_suffix=None)\n",
    "FineTuningJob(id='ftjob-FlShzuGzUBqiZWyXMrWTGb3b', created_at=1725394640, error=Error(code=None, message=None, param=None), fine_tuned_model=None, finished_at=None, hyperparameters=Hyperparameters(n_epochs='auto', batch_size='auto', learning_rate_multiplier='auto'), model='gpt-4o-mini-2024-07-18', object='fine_tuning.job', organization_id='org-ZLtIC32rfZQgI0ZpY2QetCzY', result_files=[], seed=717933360, status='validating_files', trained_tokens=None, training_file='file-N6VXiPOyMBIzDMMeM2kxOim6', validation_file=None, estimated_finish=None, integrations=[], user_provided_suffix=None)\n",
    "FineTuningJob(id='ftjob-UqsOkksKLXbiPa5akLVFxcGM', created_at=1725462903, error=Error(code=None, message=None, param=None), fine_tuned_model=None, finished_at=None, hyperparameters=Hyperparameters(n_epochs='auto', batch_size='auto', learning_rate_multiplier='auto'), model='gpt-4o-mini-2024-07-18', object='fine_tuning.job', organization_id='org-ZLtIC32rfZQgI0ZpY2QetCzY', result_files=[], seed=591586773, status='validating_files', trained_tokens=None, training_file='file-8n5CSRo1dIPehtJ3cCslwXZ8', validation_file=None, estimated_finish=None, integrations=[], user_provided_suffix=None)\n",
    "FineTuningJob(id='ftjob-YwkyWKD16WemE3aA2GE5Y6OP', created_at=1725467757, error=Error(code=None, message=None, param=None), fine_tuned_model=None, finished_at=None, hyperparameters=Hyperparameters(n_epochs='auto', batch_size='auto', learning_rate_multiplier='auto'), model='ft:gpt-4o-mini-2024-07-18:personal::A3UiuJ83', object='fine_tuning.job', organization_id='org-ZLtIC32rfZQgI0ZpY2QetCzY', result_files=[], seed=703587070, status='validating_files', trained_tokens=None, training_file='file-8n5CSRo1dIPehtJ3cCslwXZ8', validation_file=None, estimated_finish=None, integrations=[], user_provided_suffix=None)\n",
    "FineTuningJob(id='ftjob-YbAujc8Pzina5H288GAXHZmg', created_at=1725634310, error=Error(code=None, message=None, param=None), fine_tuned_model=None, finished_at=None, hyperparameters=Hyperparameters(n_epochs='auto', batch_size='auto', learning_rate_multiplier='auto'), model='ft:gpt-4o-mini-2024-07-18:personal::A3UiuJ83', object='fine_tuning.job', organization_id='org-ZLtIC32rfZQgI0ZpY2QetCzY', result_files=[], seed=1810482184, status='validating_files', trained_tokens=None, training_file='file-QQUpr6LN1EUdQiAPganBIlnA', validation_file=None, estimated_finish=None, integrations=[], user_provided_suffix='modelo_hexing')\n",
    "\n",
    "FineTuningJob(id='ftjob-gLW9Zds8m74ofWlRjdKkTtsP', created_at=1726669317, error=Error(code=None, message=None, param=None), fine_tuned_model=None, finished_at=None, hyperparameters=Hyperparameters(n_epochs='auto', batch_size='auto', learning_rate_multiplier='auto'), model='gpt-4o-mini-2024-07-18', object='fine_tuning.job', organization_id='org-ZLtIC32rfZQgI0ZpY2QetCzY', result_files=[], seed=2088931908, status='validating_files', trained_tokens=None, training_file='file-QQUpr6LN1EUdQiAPganBIlnA', validation_file=None, estimated_finish=None, integrations=[], user_provided_suffix='modelo_hexing_fine_tuning')\n",
    "\n",
    "FineTuningJob(id='ftjob-0x34l0e2ZeTIecLKTePX5BNZ', created_at=1726672204, error=Error(code=None, message=None, param=None), fine_tuned_model=None, finished_at=None, hyperparameters=Hyperparameters(n_epochs='auto', batch_size='auto', learning_rate_multiplier='auto'), model='gpt-4o-mini-2024-07-18', object='fine_tuning.job', organization_id='org-ZLtIC32rfZQgI0ZpY2QetCzY', result_files=[], seed=673506803, status='validating_files', trained_tokens=None, training_file='file-HFbPTlyiKtMP6TnUiB8WD1RP', validation_file=None, estimated_finish=None, integrations=[], user_provided_suffix='modelo_hexing_fine_tuning')\n",
    "\n",
    "FineTuningJob(id='ftjob-dvmCP5Bpx4KchNgKCtQN6fbo', created_at=1726691866, error=Error(code=None, message=None, param=None), fine_tuned_model=None, finished_at=None, hyperparameters=Hyperparameters(n_epochs='auto', batch_size='auto', learning_rate_multiplier='auto'), model='ft:gpt-4o-mini-2024-07-18:personal::A3UiuJ83', object='fine_tuning.job', organization_id='org-ZLtIC32rfZQgI0ZpY2QetCzY', result_files=[], seed=657898752, status='validating_files', trained_tokens=None, training_file='file-HFbPTlyiKtMP6TnUiB8WD1RP', validation_file=None, estimated_finish=None, integrations=[], user_provided_suffix='modelo_hexing_fine_tuning')\n",
    "\n",
    "FineTuningJob(id='ftjob-5gQj7BJvE9af9oBpCkWTtx6Z', created_at=1726694303, error=Error(code=None, message=None, param=None), fine_tuned_model=None, finished_at=None, hyperparameters=Hyperparameters(n_epochs='auto', batch_size='auto', learning_rate_multiplier='auto'), model='ft:gpt-4o-mini-2024-07-18:personal:modelo-hexing-fine-tuning:A8wFoaaW', object='fine_tuning.job', organization_id='org-ZLtIC32rfZQgI0ZpY2QetCzY', result_files=[], seed=893647309, status='validating_files', trained_tokens=None, training_file='file-N6VXiPOyMBIzDMMeM2kxOim6', validation_file=None, estimated_finish=None, integrations=[], user_provided_suffix='modelo_hexing_fine_tuning_v2')\n",
    "\n",
    "BEST_MODEL\n",
    "\n",
    "FineTuningJob(id='ftjob-D2HzlCvluoXrEOnIwo77BaHz', created_at=1726758708, error=Error(code=None, message=None, param=None), fine_tuned_model=None, finished_at=None, hyperparameters=Hyperparameters(n_epochs='auto', batch_size='auto', learning_rate_multiplier='auto'), model='ft:gpt-4o-mini-2024-07-18:personal:modelo-hexing-fine-tuning-v2:A8wv2i7g', object='fine_tuning.job', organization_id='org-ZLtIC32rfZQgI0ZpY2QetCzY', result_files=[], seed=544776902, status='validating_files', trained_tokens=None, training_file='file-O1smvfZBf3DvB7c09YGpbQt0', validation_file=None, estimated_finish=None, integrations=[], user_provided_suffix='modelo_hexing_fine_tuning_v3')\n",
    "\n",
    "FineTuningJob(id='ftjob-RED0iTkoBNIouJR09AWBXiYD', created_at=1726846596, error=Error(code=None, message=None, param=None), fine_tuned_model=None, finished_at=None, hyperparameters=Hyperparameters(n_epochs='auto', batch_size='auto', learning_rate_multiplier='auto'), model='ft:gpt-4o-mini-2024-07-18:personal::A3UiuJ83', object='fine_tuning.job', organization_id='org-ZLtIC32rfZQgI0ZpY2QetCzY', result_files=[], seed=1277692207, status='validating_files', trained_tokens=None, training_file='file-u39M5Zj614FjSZYFqBBueUgw', validation_file=None, estimated_finish=None, integrations=[], user_provided_suffix='modelo_hexing_fine_tuning_consultas')\n",
    "\n",
    "FineTuningJob(id='ftjob-ZP2881VYR9N0eVTRoni9V9px', created_at=1726847469, error=Error(code=None, message=None, param=None), fine_tuned_model=None, finished_at=None, hyperparameters=Hyperparameters(n_epochs='auto', batch_size='auto', learning_rate_multiplier='auto'), model='ft:gpt-4o-mini-2024-07-18:personal::A3UiuJ83', object='fine_tuning.job', organization_id='org-ZLtIC32rfZQgI0ZpY2QetCzY', result_files=[], seed=1494167867, status='validating_files', trained_tokens=None, training_file='file-uILFNC3ecUDfJ9J8BkwtrkJr', validation_file=None, estimated_finish=None, integrations=[], user_provided_suffix='modelo_hexing_fine_tuning_consultas_v2')\n",
    "\n",
    "FineTuningJob(id='ftjob-2aNWVzaJDHwt0UQ45gKBXBpN', created_at=1726848617, error=Error(code=None, message=None, param=None), fine_tuned_model=None, finished_at=None, hyperparameters=Hyperparameters(n_epochs='auto', batch_size='auto', learning_rate_multiplier='auto'), model='ft:gpt-4o-mini-2024-07-18:personal:modelo-hexing-fine-tuning-consultas-v2:A9aHYMoE', object='fine_tuning.job', organization_id='org-ZLtIC32rfZQgI0ZpY2QetCzY', result_files=[], seed=785694480, status='validating_files', trained_tokens=None, training_file='file-sTBaST4RsSDckLOA2hBokMsO', validation_file=None, estimated_finish=None, integrations=[], user_provided_suffix='modelo_hexing_fine_tuning_consultas_v3')\n",
    "\n",
    "FineTuningJob(id='ftjob-R5W1UGZDGbmbd0O3oOthAiWe', created_at=1726867974, error=Error(code=None, message=None, param=None), fine_tuned_model=None, finished_at=None, hyperparameters=Hyperparameters(n_epochs='auto', batch_size='auto', learning_rate_multiplier='auto'), model='ft:gpt-4o-mini-2024-07-18:personal:modelo-hexing-fine-tuning-consultas-v3:A9aaSCsu', object='fine_tuning.job', organization_id='org-ZLtIC32rfZQgI0ZpY2QetCzY', result_files=[], seed=459633285, status='validating_files', trained_tokens=None, training_file='file-wkCoqjKJwK3AwaUVLXBgbaZh', validation_file=None, estimated_finish=None, integrations=[], user_provided_suffix='modelo_hexing_fine_tuning_consultas_v4')\n",
    "\n",
    "\n",
    "\"\"\""
   ]
  },
  {
   "cell_type": "code",
   "execution_count": 3,
   "metadata": {},
   "outputs": [
    {
     "data": {
      "text/plain": [
       "SyncCursorPage[FineTuningJob](data=[FineTuningJob(id='ftjob-FlShzuGzUBqiZWyXMrWTGb3b', created_at=1725394640, error=Error(code=None, message=None, param=None), fine_tuned_model='ft:gpt-4o-mini-2024-07-18:personal::A3UiuJ83', finished_at=1725396447, hyperparameters=Hyperparameters(n_epochs=3, batch_size=1, learning_rate_multiplier=1.8), model='gpt-4o-mini-2024-07-18', object='fine_tuning.job', organization_id='org-ZLtIC32rfZQgI0ZpY2QetCzY', result_files=['file-iVtxAEEJgRc1iday32bbc6Rv'], seed=717933360, status='succeeded', trained_tokens=529062, training_file='file-N6VXiPOyMBIzDMMeM2kxOim6', validation_file=None, estimated_finish=None, integrations=[], user_provided_suffix=None), FineTuningJob(id='ftjob-sMHhZwdHhqn2PBcGypJuFQHi', created_at=1725393010, error=Error(code='exceeded_quota', message='Creating this fine-tuning job would exceed your hard limit, please check your plan and billing details.                     Cost of job ftjob-sMHhZwdHhqn2PBcGypJuFQHi: USD 5.80. Quota remaining for org-ZLtIC32rfZQgI0ZpY2QetCzY: USD 5.00.', param=None), fine_tuned_model=None, finished_at=None, hyperparameters=Hyperparameters(n_epochs=3, batch_size=3, learning_rate_multiplier=1.8), model='gpt-4o-mini-2024-07-18', object='fine_tuning.job', organization_id='org-ZLtIC32rfZQgI0ZpY2QetCzY', result_files=[], seed=1264219753, status='failed', trained_tokens=None, training_file='file-GzO6S2sCz6ZAUdrf8WT8TNJh', validation_file=None, estimated_finish=None, integrations=[], user_provided_suffix=None), FineTuningJob(id='ftjob-V9gsFdsq7ltTAByCMapxEyGB', created_at=1725384943, error=Error(code='exceeded_quota', message='Creating this fine-tuning job would exceed your hard limit, please check your plan and billing details.                     Cost of job ftjob-V9gsFdsq7ltTAByCMapxEyGB: USD 8.24. Quota remaining for org-ZLtIC32rfZQgI0ZpY2QetCzY: USD 5.00.', param=None), fine_tuned_model=None, finished_at=None, hyperparameters=Hyperparameters(n_epochs=3, batch_size=5, learning_rate_multiplier=1.8), model='gpt-4o-mini-2024-07-18', object='fine_tuning.job', organization_id='org-ZLtIC32rfZQgI0ZpY2QetCzY', result_files=[], seed=634903305, status='failed', trained_tokens=None, training_file='file-MM0jcLVHc9K3pm1l6xwxL0Pr', validation_file=None, estimated_finish=None, integrations=[], user_provided_suffix=None), FineTuningJob(id='ftjob-cD50bWptLH8w0XH4wqGfAfbJ', created_at=1723828461, error=Error(code=None, message=None, param=None), fine_tuned_model='ft:gpt-4o-mini-2024-07-18:personal:union-ft-test-bitacora-chat-v4:9wvD6ESK', finished_at=1723829966, hyperparameters=Hyperparameters(n_epochs=3, batch_size=1, learning_rate_multiplier=1.8), model='gpt-4o-mini-2024-07-18', object='fine_tuning.job', organization_id='org-ZLtIC32rfZQgI0ZpY2QetCzY', result_files=['file-6GuzO8whsJ4eyp7f1XLbtk4x'], seed=685537913, status='succeeded', trained_tokens=324573, training_file='file-EDqDdXn4WXtOLZv05YK39BvM', validation_file=None, estimated_finish=None, integrations=[], user_provided_suffix='union-ft-test-bitacora-chat-v4'), FineTuningJob(id='ftjob-NkZAkQuYWnZWLZJGjOyZ4EB0', created_at=1723825501, error=Error(code='exceeded_quota', message='Creating this fine-tuning job would exceed your hard limit, please check your plan and billing details.                     Cost of job ftjob-NkZAkQuYWnZWLZJGjOyZ4EB0: USD 17.12. Quota remaining for org-ZLtIC32rfZQgI0ZpY2QetCzY: USD 4.94.', param=None), fine_tuned_model=None, finished_at=None, hyperparameters=Hyperparameters(n_epochs=3, batch_size=12, learning_rate_multiplier=1.8), model='gpt-4o-mini-2024-07-18', object='fine_tuning.job', organization_id='org-ZLtIC32rfZQgI0ZpY2QetCzY', result_files=[], seed=1719066174, status='failed', trained_tokens=None, training_file='file-r7JprLW04R4z54Uj9DUdgyVI', validation_file=None, estimated_finish=None, integrations=[], user_provided_suffix='union-ft-test-bitacora-chat-v3'), FineTuningJob(id='ftjob-pwQfcoR4pacVjXpU1SUVonwZ', created_at=1723824517, error=Error(code='invalid_training_file', message='The job failed due to an invalid training file. Unexpected file format, expected either prompt/completion pairs or chat messages.', param='training_file'), fine_tuned_model=None, finished_at=None, hyperparameters=None, model='gpt-4o-mini-2024-07-18', object='fine_tuning.job', organization_id='org-ZLtIC32rfZQgI0ZpY2QetCzY', result_files=[], seed=596691624, status='failed', trained_tokens=None, training_file='file-Mo3F4tOicxfRvg7F1MoXj5o2', validation_file=None, estimated_finish=None, integrations=[], user_provided_suffix='union-ft-test-bitacora-chat-v2'), FineTuningJob(id='ftjob-uXhOaMXNsW8UDV8MKspwvTHq', created_at=1723652679, error=Error(code=None, message=None, param=None), fine_tuned_model='ft:gpt-4o-mini-2024-07-18:personal:union-ft-test-bitacora-chat:9wBUjGCs', finished_at=1723654235, hyperparameters=Hyperparameters(n_epochs=3, batch_size=1, learning_rate_multiplier=1.8), model='gpt-4o-mini-2024-07-18', object='fine_tuning.job', organization_id='org-ZLtIC32rfZQgI0ZpY2QetCzY', result_files=['file-7N4G2NMJo8zv31OwSeCqoIEm'], seed=1708051798, status='succeeded', trained_tokens=284439, training_file='file-JVJyiJ8t1emcoQ7ylIEImbHC', validation_file=None, estimated_finish=None, integrations=[], user_provided_suffix='union-ft-test-bitacora-chat'), FineTuningJob(id='ftjob-GGzrpNEdL2NYc83Ke0mjWWYT', created_at=1723651476, error=Error(code='invalid_training_file', message='The job failed due to an invalid training file. Invalid file format. Input file file-PydZdufOYXWHblJKeGFs01cj is in the prompt-completion format, but the specified model gpt-4o-mini-2024-07-18 is a chat model and requires chat-formatted data. See https://platform.openai.com/docs/guides/fine-tuning/preparing-your-dataset for details.', param='training_file'), fine_tuned_model=None, finished_at=None, hyperparameters=None, model='gpt-4o-mini-2024-07-18', object='fine_tuning.job', organization_id='org-ZLtIC32rfZQgI0ZpY2QetCzY', result_files=[], seed=2088092381, status='failed', trained_tokens=None, training_file='file-PydZdufOYXWHblJKeGFs01cj', validation_file=None, estimated_finish=None, integrations=[], user_provided_suffix='union-ft-test-bitacora'), FineTuningJob(id='ftjob-BjJK5T5xmJkLdDjngY7Od7hL', created_at=1723650565, error=Error(code='invalid_training_file', message='The job failed due to an invalid training file. Unexpected file format, expected either prompt/completion pairs or chat messages.', param='training_file'), fine_tuned_model=None, finished_at=None, hyperparameters=None, model='gpt-4o-mini-2024-07-18', object='fine_tuning.job', organization_id='org-ZLtIC32rfZQgI0ZpY2QetCzY', result_files=[], seed=1025350509, status='failed', trained_tokens=None, training_file='file-Vxs10UyWMxKdiKoJ8FqKFwTR', validation_file=None, estimated_finish=None, integrations=[], user_provided_suffix='union-ft-test-bitacora'), FineTuningJob(id='ftjob-PgYpP22NHvsbUN0PEoHJCgBq', created_at=1723495152, error=Error(code='invalid_training_file', message='The job failed due to an invalid training file. Unexpected file format, expected either prompt/completion pairs or chat messages.', param='training_file'), fine_tuned_model=None, finished_at=None, hyperparameters=None, model='gpt-4o-mini-2024-07-18', object='fine_tuning.job', organization_id='org-ZLtIC32rfZQgI0ZpY2QetCzY', result_files=[], seed=1611388628, status='failed', trained_tokens=None, training_file='file-GjxMfh0ax4xuXmgFyVaEJKhv', validation_file=None, estimated_finish=None, integrations=[], user_provided_suffix=None)], object='list', has_more=False)"
      ]
     },
     "execution_count": 3,
     "metadata": {},
     "output_type": "execute_result"
    }
   ],
   "source": [
    "from openai import OpenAI\n",
    "import os\n",
    "from dotenv import load_dotenv\n",
    "\n",
    "load_dotenv()\n",
    "api_key = os.getenv('TOKEN')\n",
    "client = OpenAI(api_key=api_key)\n",
    "\n",
    "\n",
    "# List 10 fine-tuning jobs\n",
    "client.fine_tuning.jobs.list(limit=10)\n",
    "\n",
    "\n",
    "# # Retrieve the state of a fine-tune\n",
    "# client.fine_tuning.jobs.retrieve(\"...\")\n",
    "\n",
    "\n",
    "# Cancel a job\n",
    "client.fine_tuning.jobs.cancel(\"...\")\n",
    "\n",
    "\n",
    "# List up to 10 events from a fine-tuning job\n",
    "client.fine_tuning.jobs.list_events(fine_tuning_job_id=\"...\", limit=10)\n",
    "\n",
    "\n",
    "\"\"\"\n",
    "SyncCursorPage[FineTuningJob](data=[FineTuningJob(id='ftjob-FlShzuGzUBqiZWyXMrWTGb3b', created_at=1725394640, error=Error(code=None, message=None, param=None), fine_tuned_model='ft:gpt-4o-mini-2024-07-18:personal::A3UiuJ83', finished_at=1725396447, hyperparameters=Hyperparameters(n_epochs=3, batch_size=1, learning_rate_multiplier=1.8), model='gpt-4o-mini-2024-07-18', object='fine_tuning.job', organization_id='org-ZLtIC32rfZQgI0ZpY2QetCzY', result_files=['file-iVtxAEEJgRc1iday32bbc6Rv'], seed=717933360, status='succeeded', trained_tokens=529062, training_file='file-N6VXiPOyMBIzDMMeM2kxOim6', validation_file=None, estimated_finish=None, integrations=[], user_provided_suffix=None), FineTuningJob(id='ftjob-sMHhZwdHhqn2PBcGypJuFQHi', created_at=1725393010, error=Error(code='exceeded_quota', message='Creating this fine-tuning job would exceed your hard limit, please check your plan and billing details.                     Cost of job ftjob-sMHhZwdHhqn2PBcGypJuFQHi: USD 5.80. Quota remaining for org-ZLtIC32rfZQgI0ZpY2QetCzY: USD 5.00.', param=None), fine_tuned_model=None, finished_at=None, hyperparameters=Hyperparameters(n_epochs=3, batch_size=3, learning_rate_multiplier=1.8), model='gpt-4o-mini-2024-07-18', object='fine_tuning.job', organization_id='org-ZLtIC32rfZQgI0ZpY2QetCzY', result_files=[], seed=1264219753, status='failed', trained_tokens=None, training_file='file-GzO6S2sCz6ZAUdrf8WT8TNJh', validation_file=None, estimated_finish=None, integrations=[], user_provided_suffix=None), FineTuningJob(id='ftjob-V9gsFdsq7ltTAByCMapxEyGB', created_at=1725384943, error=Error(code='exceeded_quota', message='Creating this fine-tuning job would exceed your hard limit, please check your plan and billing details.                     Cost of job ftjob-V9gsFdsq7ltTAByCMapxEyGB: USD 8.24. Quota remaining for org-ZLtIC32rfZQgI0ZpY2QetCzY: USD 5.00.', param=None), fine_tuned_model=None, finished_at=None, hyperparameters=Hyperparameters(n_epochs=3, batch_size=5, learning_rate_multiplier=1.8), model='gpt-4o-mini-2024-07-18', object='fine_tuning.job', organization_id='org-ZLtIC32rfZQgI0ZpY2QetCzY', result_files=[], seed=634903305, status='failed', trained_tokens=None, training_file='file-MM0jcLVHc9K3pm1l6xwxL0Pr', validation_file=None, estimated_finish=None, integrations=[], user_provided_suffix=None), FineTuningJob(id='ftjob-cD50bWptLH8w0XH4wqGfAfbJ', created_at=1723828461, error=Error(code=None, message=None, param=None), fine_tuned_model='ft:gpt-4o-mini-2024-07-18:personal:union-ft-test-bitacora-chat-v4:9wvD6ESK', finished_at=1723829966, hyperparameters=Hyperparameters(n_epochs=3, batch_size=1, learning_rate_multiplier=1.8), model='gpt-4o-mini-2024-07-18', object='fine_tuning.job', organization_id='org-ZLtIC32rfZQgI0ZpY2QetCzY', result_files=['file-6GuzO8whsJ4eyp7f1XLbtk4x'], seed=685537913, status='succeeded', trained_tokens=324573, training_file='file-EDqDdXn4WXtOLZv05YK39BvM', validation_file=None, estimated_finish=None, integrations=[], user_provided_suffix='union-ft-test-bitacora-chat-v4'), FineTuningJob(id='ftjob-NkZAkQuYWnZWLZJGjOyZ4EB0', created_at=1723825501, error=Error(code='exceeded_quota', message='Creating this fine-tuning job would exceed your hard limit, please check your plan and billing details.                     Cost of job ftjob-NkZAkQuYWnZWLZJGjOyZ4EB0: USD 17.12. Quota remaining for org-ZLtIC32rfZQgI0ZpY2QetCzY: USD 4.94.', param=None), fine_tuned_model=None, finished_at=None, hyperparameters=Hyperparameters(n_epochs=3, batch_size=12, learning_rate_multiplier=1.8), model='gpt-4o-mini-2024-07-18', object='fine_tuning.job', organization_id='org-ZLtIC32rfZQgI0ZpY2QetCzY', result_files=[], seed=1719066174, status='failed', trained_tokens=None, training_file='file-r7JprLW04R4z54Uj9DUdgyVI', validation_file=None, estimated_finish=None, integrations=[], user_provided_suffix='union-ft-test-bitacora-chat-v3'), FineTuningJob(id='ftjob-pwQfcoR4pacVjXpU1SUVonwZ', created_at=1723824517, error=Error(code='invalid_training_file', message='The job failed due to an invalid training file. Unexpected file format, expected either prompt/completion pairs or chat messages.', param='training_file'), fine_tuned_model=None, finished_at=None, hyperparameters=None, model='gpt-4o-mini-2024-07-18', object='fine_tuning.job', organization_id='org-ZLtIC32rfZQgI0ZpY2QetCzY', result_files=[], seed=596691624, status='failed', trained_tokens=None, training_file='file-Mo3F4tOicxfRvg7F1MoXj5o2', validation_file=None, estimated_finish=None, integrations=[], user_provided_suffix='union-ft-test-bitacora-chat-v2'), FineTuningJob(id='ftjob-uXhOaMXNsW8UDV8MKspwvTHq', created_at=1723652679, error=Error(code=None, message=None, param=None), fine_tuned_model='ft:gpt-4o-mini-2024-07-18:personal:union-ft-test-bitacora-chat:9wBUjGCs', finished_at=1723654235, hyperparameters=Hyperparameters(n_epochs=3, batch_size=1, learning_rate_multiplier=1.8), model='gpt-4o-mini-2024-07-18', object='fine_tuning.job', organization_id='org-ZLtIC32rfZQgI0ZpY2QetCzY', result_files=['file-7N4G2NMJo8zv31OwSeCqoIEm'], seed=1708051798, status='succeeded', trained_tokens=284439, training_file='file-JVJyiJ8t1emcoQ7ylIEImbHC', validation_file=None, estimated_finish=None, integrations=[], user_provided_suffix='union-ft-test-bitacora-chat'), FineTuningJob(id='ftjob-GGzrpNEdL2NYc83Ke0mjWWYT', created_at=1723651476, error=Error(code='invalid_training_file', message='The job failed due to an invalid training file. Invalid file format. Input file file-PydZdufOYXWHblJKeGFs01cj is in the prompt-completion format, but the specified model gpt-4o-mini-2024-07-18 is a chat model and requires chat-formatted data. See https://platform.openai.com/docs/guides/fine-tuning/preparing-your-dataset for details.', param='training_file'), fine_tuned_model=None, finished_at=None, hyperparameters=None, model='gpt-4o-mini-2024-07-18', object='fine_tuning.job', organization_id='org-ZLtIC32rfZQgI0ZpY2QetCzY', result_files=[], seed=2088092381, status='failed', trained_tokens=None, training_file='file-PydZdufOYXWHblJKeGFs01cj', validation_file=None, estimated_finish=None, integrations=[], user_provided_suffix='union-ft-test-bitacora'), FineTuningJob(id='ftjob-BjJK5T5xmJkLdDjngY7Od7hL', created_at=1723650565, error=Error(code='invalid_training_file', message='The job failed due to an invalid training file. Unexpected file format, expected either prompt/completion pairs or chat messages.', param='training_file'), fine_tuned_model=None, finished_at=None, hyperparameters=None, model='gpt-4o-mini-2024-07-18', object='fine_tuning.job', organization_id='org-ZLtIC32rfZQgI0ZpY2QetCzY', result_files=[], seed=1025350509, status='failed', trained_tokens=None, training_file='file-Vxs10UyWMxKdiKoJ8FqKFwTR', validation_file=None, estimated_finish=None, integrations=[], user_provided_suffix='union-ft-test-bitacora'), FineTuningJob(id='ftjob-PgYpP22NHvsbUN0PEoHJCgBq', created_at=1723495152, error=Error(code='invalid_training_file', message='The job failed due to an invalid training file. Unexpected file format, expected either prompt/completion pairs or chat messages.', param='training_file'), fine_tuned_model=None, finished_at=None, hyperparameters=None, model='gpt-4o-mini-2024-07-18', object='fine_tuning.job', organization_id='org-ZLtIC32rfZQgI0ZpY2QetCzY', result_files=[], seed=1611388628, status='failed', trained_tokens=None, training_file='file-GjxMfh0ax4xuXmgFyVaEJKhv', validation_file=None, estimated_finish=None, integrations=[], user_provided_suffix=None)], object='list', has_more=False)\n",
    "\"\"\"\n",
    "\n",
    "\n",
    "# Delete a fine-tuned model (must be an owner of the org the model was created in)\n",
    "client.models.delete(\"ft:gpt-3.5-turbo:xxx:xxx\")"
   ]
  },
  {
   "cell_type": "code",
   "execution_count": 1,
   "metadata": {},
   "outputs": [
    {
     "name": "stdout",
     "output_type": "stream",
     "text": [
      "FineTuningJob(id='ftjob-R5W1UGZDGbmbd0O3oOthAiWe', created_at=1726867974, error=Error(code='invalid_training_file', message='The job failed due to an invalid training file. Invalid file format. Example 43 is not a valid JSON object.', param='training_file'), fine_tuned_model=None, finished_at=None, hyperparameters=Hyperparameters(n_epochs='auto', batch_size='auto', learning_rate_multiplier='auto'), model='ft:gpt-4o-mini-2024-07-18:personal:modelo-hexing-fine-tuning-consultas-v3:A9aaSCsu', object='fine_tuning.job', organization_id='org-ZLtIC32rfZQgI0ZpY2QetCzY', result_files=[], seed=459633285, status='failed', trained_tokens=None, training_file='file-wkCoqjKJwK3AwaUVLXBgbaZh', validation_file=None, estimated_finish=None, integrations=[], user_provided_suffix='modelo_hexing_fine_tuning_consultas_v4')\n"
     ]
    },
    {
     "data": {
      "text/plain": [
       "\"\\nFineTuningJob(id='ftjob-YwkyWKD16WemE3aA2GE5Y6OP', created_at=1725467757, error=Error(code=None, message=None, param=None), fine_tuned_model=ft:gpt-4o-mini-2024-07-18:personal::A3obC6oV, finished_at=None, hyperparameters=Hyperparameters(n_epochs=3, batch_size=1, learning_rate_multiplier=1.8), model='ft:gpt-4o-mini-2024-07-18:personal::A3UiuJ83', object='fine_tuning.job', organization_id='org-ZLtIC32rfZQgI0ZpY2QetCzY', result_files=[], seed=703587070, status='queued', trained_tokens=None, training_file='file-8n5CSRo1dIPehtJ3cCslwXZ8', validation_file=None, estimated_finish=None, integrations=[], user_provided_suffix=None)\\n\\nFineTuningJob(id='ftjob-YbAujc8Pzina5H288GAXHZmg', created_at=1725634310, error=Error(code=None, message=None, param=None), fine_tuned_model='ft:gpt-4o-mini-2024-07-18:personal:modelo-hexing:A4V3Cvaa', finished_at=1725636032, hyperparameters=Hyperparameters(n_epochs=3, batch_size=1, learning_rate_multiplier=1.8), model='ft:gpt-4o-mini-2024-07-18:personal::A3UiuJ83', object='fine_tuning.job', organization_id='org-ZLtIC32rfZQgI0ZpY2QetCzY', result_files=['file-R3wBFdD32jK7qsjVWpsKCJb9'], seed=1810482184, status='succeeded', trained_tokens=322884, training_file='file-QQUpr6LN1EUdQiAPganBIlnA', validation_file=None, estimated_finish=None, integrations=[], user_provided_suffix='modelo_hexing')\\n\\nFineTuningJob(id='ftjob-gLW9Zds8m74ofWlRjdKkTtsP', created_at=1726669317, error=Error(code=None, message=None, param=None), fine_tuned_model='ft:gpt-4o-mini-2024-07-18:personal:modelo-hexing-fine-tuning:A8qMIKyY', finished_at=1726671252, hyperparameters=Hyperparameters(n_epochs=3, batch_size=1, learning_rate_multiplier=1.8), model='gpt-4o-mini-2024-07-18', object='fine_tuning.job', organization_id='org-ZLtIC32rfZQgI0ZpY2QetCzY', result_files=['file-P774Yve7ywz23BsHPNCLFobJ'], seed=2088931908, status='succeeded', trained_tokens=322884, training_file='file-QQUpr6LN1EUdQiAPganBIlnA', validation_file=None, estimated_finish=None, integrations=[], user_provided_suffix='modelo_hexing_fine_tuning')\\n\\nFineTuningJob(id='ftjob-0x34l0e2ZeTIecLKTePX5BNZ', created_at=1726672204, error=Error(code=None, message=None, param=None), fine_tuned_model='ft:gpt-4o-mini-2024-07-18:personal:modelo-hexing-fine-tuning:A8rAJQ0R', finished_at=1726674353, hyperparameters=Hyperparameters(n_epochs=3, batch_size=1, learning_rate_multiplier=1.8), model='gpt-4o-mini-2024-07-18', object='fine_tuning.job', organization_id='org-ZLtIC32rfZQgI0ZpY2QetCzY', result_files=['file-5EwfsythOzgnGpGlWi3XgYMT'], seed=673506803, status='succeeded', trained_tokens=353094, training_file='file-HFbPTlyiKtMP6TnUiB8WD1RP', validation_file=None, estimated_finish=None, integrations=[], user_provided_suffix='modelo_hexing_fine_tuning')\\n\\nFineTuningJob(id='ftjob-dvmCP5Bpx4KchNgKCtQN6fbo', created_at=1726691866, error=Error(code=None, message=None, param=None), fine_tuned_model='ft:gpt-4o-mini-2024-07-18:personal:modelo-hexing-fine-tuning:A8wFoaaW', finished_at=1726693914, hyperparameters=Hyperparameters(n_epochs=3, batch_size=1, learning_rate_multiplier=1.8), model='ft:gpt-4o-mini-2024-07-18:personal::A3UiuJ83', object='fine_tuning.job', organization_id='org-ZLtIC32rfZQgI0ZpY2QetCzY', result_files=['file-ZE5wuiw8xu8aoxfjqCey6qgy'], seed=657898752, status='succeeded', trained_tokens=353094, training_file='file-HFbPTlyiKtMP6TnUiB8WD1RP', validation_file=None, estimated_finish=None, integrations=[], user_provided_suffix='modelo_hexing_fine_tuning')\\n\\nFineTuningJob(id='ftjob-5gQj7BJvE9af9oBpCkWTtx6Z', created_at=1726694303, error=Error(code=None, message=None, param=None), fine_tuned_model=None, finished_at=None, hyperparameters=Hyperparameters(n_epochs=3, batch_size=1, learning_rate_multiplier=1.8), model='ft:gpt-4o-mini-2024-07-18:personal:modelo-hexing-fine-tuning:A8wFoaaW', object='fine_tuning.job', organization_id='org-ZLtIC32rfZQgI0ZpY2QetCzY', result_files=[], seed=893647309, status='running', trained_tokens=None, training_file='file-N6VXiPOyMBIzDMMeM2kxOim6', validation_file=None, estimated_finish=None, integrations=[], user_provided_suffix='modelo_hexing_fine_tuning_v2')\\n\\nFineTuningJob(id='ftjob-D2HzlCvluoXrEOnIwo77BaHz', created_at=1726758708, error=Error(code=None, message=None, param=None), fine_tuned_model=None, finished_at=None, hyperparameters=Hyperparameters(n_epochs=3, batch_size=1, learning_rate_multiplier=1.8), model='ft:gpt-4o-mini-2024-07-18:personal:modelo-hexing-fine-tuning-v2:A8wv2i7g', object='fine_tuning.job', organization_id='org-ZLtIC32rfZQgI0ZpY2QetCzY', result_files=[], seed=544776902, status='validating_files', trained_tokens=None, training_file='file-O1smvfZBf3DvB7c09YGpbQt0', validation_file=None, estimated_finish=None, integrations=[], user_provided_suffix='modelo_hexing_fine_tuning_v3')\\n\\nFineTuningJob(id='ftjob-D2HzlCvluoXrEOnIwo77BaHz', created_at=1726758708, error=Error(code=None, message=None, param=None), fine_tuned_model='ft:gpt-4o-mini-2024-07-18:personal:modelo-hexing-fine-tuning-v3:A9DZ4cli', finished_at=1726760457, hyperparameters=Hyperparameters(n_epochs=3, batch_size=1, learning_rate_multiplier=1.8), model='ft:gpt-4o-mini-2024-07-18:personal:modelo-hexing-fine-tuning-v2:A8wv2i7g', object='fine_tuning.job', organization_id='org-ZLtIC32rfZQgI0ZpY2QetCzY', result_files=['file-wWp0KdakAdn2EDDopzWHqLKT'], seed=544776902, status='succeeded', trained_tokens=529062, training_file='file-O1smvfZBf3DvB7c09YGpbQt0', validation_file=None, estimated_finish=None, integrations=[], user_provided_suffix='modelo_hexing_fine_tuning_v3')\\n\\nFineTuningJob(id='ftjob-RED0iTkoBNIouJR09AWBXiYD', created_at=1726846596, error=Error(code=None, message=None, param=None), fine_tuned_model='ft:gpt-4o-mini-2024-07-18:personal:modelo-hexing-fine-tuning-consultas:A9a3yEBu', finished_at=1726846941, hyperparameters=Hyperparameters(n_epochs=3, batch_size=1, learning_rate_multiplier=1.8), model='ft:gpt-4o-mini-2024-07-18:personal::A3UiuJ83', object='fine_tuning.job', organization_id='org-ZLtIC32rfZQgI0ZpY2QetCzY', result_files=['file-0V2Hnd9qlgQFxEDRhpJa5ZHt'], seed=1277692207, status='succeeded', trained_tokens=44352, training_file='file-u39M5Zj614FjSZYFqBBueUgw', validation_file=None, estimated_finish=None, integrations=[], user_provided_suffix='modelo_hexing_fine_tuning_consultas')\\n\\nFineTuningJob(id='ftjob-ZP2881VYR9N0eVTRoni9V9px', created_at=1726847469, error=Error(code=None, message=None, param=None), fine_tuned_model='ft:gpt-4o-mini-2024-07-18:personal:modelo-hexing-fine-tuning-consultas-v2:A9aHYMoE', finished_at=1726847782, hyperparameters=Hyperparameters(n_epochs=3, batch_size=1, learning_rate_multiplier=1.8), model='ft:gpt-4o-mini-2024-07-18:personal::A3UiuJ83', object='fine_tuning.job', organization_id='org-ZLtIC32rfZQgI0ZpY2QetCzY', result_files=['file-CfLZ8Uy9whpemra9wXImwC4s'], seed=1494167867, status='succeeded', trained_tokens=111531, training_file='file-uILFNC3ecUDfJ9J8BkwtrkJr', validation_file=None, estimated_finish=None, integrations=[], user_provided_suffix='modelo_hexing_fine_tuning_consultas_v2')\\n\\nFineTuningJob(id='ftjob-2aNWVzaJDHwt0UQ45gKBXBpN', created_at=1726848617, error=Error(code=None, message=None, param=None), fine_tuned_model='ft:gpt-4o-mini-2024-07-18:personal:modelo-hexing-fine-tuning-consultas-v3:A9aaSCsu', finished_at=1726848954, hyperparameters=Hyperparameters(n_epochs=3, batch_size=1, learning_rate_multiplier=1.8), model='ft:gpt-4o-mini-2024-07-18:personal:modelo-hexing-fine-tuning-consultas-v2:A9aHYMoE', object='fine_tuning.job', organization_id='org-ZLtIC32rfZQgI0ZpY2QetCzY', result_files=['file-fzMc6tIujdsKbzmI37rxcvoi'], seed=785694480, status='succeeded', trained_tokens=113196, training_file='file-sTBaST4RsSDckLOA2hBokMsO', validation_file=None, estimated_finish=None, integrations=[], user_provided_suffix='modelo_hexing_fine_tuning_consultas_v3')\\n\\n\""
      ]
     },
     "execution_count": 1,
     "metadata": {},
     "output_type": "execute_result"
    }
   ],
   "source": [
    "from openai import OpenAI\n",
    "import os\n",
    "from dotenv import load_dotenv\n",
    "\n",
    "load_dotenv()\n",
    "api_key = os.getenv('TOKEN')\n",
    "client = OpenAI(api_key=api_key)\n",
    "response = client.fine_tuning.jobs.retrieve(\"ftjob-R5W1UGZDGbmbd0O3oOthAiWe\")\n",
    "print(response)\n",
    "\n",
    "\"\"\"\n",
    "FineTuningJob(id='ftjob-YwkyWKD16WemE3aA2GE5Y6OP', created_at=1725467757, error=Error(code=None, message=None, param=None), fine_tuned_model=ft:gpt-4o-mini-2024-07-18:personal::A3obC6oV, finished_at=None, hyperparameters=Hyperparameters(n_epochs=3, batch_size=1, learning_rate_multiplier=1.8), model='ft:gpt-4o-mini-2024-07-18:personal::A3UiuJ83', object='fine_tuning.job', organization_id='org-ZLtIC32rfZQgI0ZpY2QetCzY', result_files=[], seed=703587070, status='queued', trained_tokens=None, training_file='file-8n5CSRo1dIPehtJ3cCslwXZ8', validation_file=None, estimated_finish=None, integrations=[], user_provided_suffix=None)\n",
    "\n",
    "FineTuningJob(id='ftjob-YbAujc8Pzina5H288GAXHZmg', created_at=1725634310, error=Error(code=None, message=None, param=None), fine_tuned_model='ft:gpt-4o-mini-2024-07-18:personal:modelo-hexing:A4V3Cvaa', finished_at=1725636032, hyperparameters=Hyperparameters(n_epochs=3, batch_size=1, learning_rate_multiplier=1.8), model='ft:gpt-4o-mini-2024-07-18:personal::A3UiuJ83', object='fine_tuning.job', organization_id='org-ZLtIC32rfZQgI0ZpY2QetCzY', result_files=['file-R3wBFdD32jK7qsjVWpsKCJb9'], seed=1810482184, status='succeeded', trained_tokens=322884, training_file='file-QQUpr6LN1EUdQiAPganBIlnA', validation_file=None, estimated_finish=None, integrations=[], user_provided_suffix='modelo_hexing')\n",
    "\n",
    "FineTuningJob(id='ftjob-gLW9Zds8m74ofWlRjdKkTtsP', created_at=1726669317, error=Error(code=None, message=None, param=None), fine_tuned_model='ft:gpt-4o-mini-2024-07-18:personal:modelo-hexing-fine-tuning:A8qMIKyY', finished_at=1726671252, hyperparameters=Hyperparameters(n_epochs=3, batch_size=1, learning_rate_multiplier=1.8), model='gpt-4o-mini-2024-07-18', object='fine_tuning.job', organization_id='org-ZLtIC32rfZQgI0ZpY2QetCzY', result_files=['file-P774Yve7ywz23BsHPNCLFobJ'], seed=2088931908, status='succeeded', trained_tokens=322884, training_file='file-QQUpr6LN1EUdQiAPganBIlnA', validation_file=None, estimated_finish=None, integrations=[], user_provided_suffix='modelo_hexing_fine_tuning')\n",
    "\n",
    "FineTuningJob(id='ftjob-0x34l0e2ZeTIecLKTePX5BNZ', created_at=1726672204, error=Error(code=None, message=None, param=None), fine_tuned_model='ft:gpt-4o-mini-2024-07-18:personal:modelo-hexing-fine-tuning:A8rAJQ0R', finished_at=1726674353, hyperparameters=Hyperparameters(n_epochs=3, batch_size=1, learning_rate_multiplier=1.8), model='gpt-4o-mini-2024-07-18', object='fine_tuning.job', organization_id='org-ZLtIC32rfZQgI0ZpY2QetCzY', result_files=['file-5EwfsythOzgnGpGlWi3XgYMT'], seed=673506803, status='succeeded', trained_tokens=353094, training_file='file-HFbPTlyiKtMP6TnUiB8WD1RP', validation_file=None, estimated_finish=None, integrations=[], user_provided_suffix='modelo_hexing_fine_tuning')\n",
    "\n",
    "FineTuningJob(id='ftjob-dvmCP5Bpx4KchNgKCtQN6fbo', created_at=1726691866, error=Error(code=None, message=None, param=None), fine_tuned_model='ft:gpt-4o-mini-2024-07-18:personal:modelo-hexing-fine-tuning:A8wFoaaW', finished_at=1726693914, hyperparameters=Hyperparameters(n_epochs=3, batch_size=1, learning_rate_multiplier=1.8), model='ft:gpt-4o-mini-2024-07-18:personal::A3UiuJ83', object='fine_tuning.job', organization_id='org-ZLtIC32rfZQgI0ZpY2QetCzY', result_files=['file-ZE5wuiw8xu8aoxfjqCey6qgy'], seed=657898752, status='succeeded', trained_tokens=353094, training_file='file-HFbPTlyiKtMP6TnUiB8WD1RP', validation_file=None, estimated_finish=None, integrations=[], user_provided_suffix='modelo_hexing_fine_tuning')\n",
    "\n",
    "FineTuningJob(id='ftjob-5gQj7BJvE9af9oBpCkWTtx6Z', created_at=1726694303, error=Error(code=None, message=None, param=None), fine_tuned_model=None, finished_at=None, hyperparameters=Hyperparameters(n_epochs=3, batch_size=1, learning_rate_multiplier=1.8), model='ft:gpt-4o-mini-2024-07-18:personal:modelo-hexing-fine-tuning:A8wFoaaW', object='fine_tuning.job', organization_id='org-ZLtIC32rfZQgI0ZpY2QetCzY', result_files=[], seed=893647309, status='running', trained_tokens=None, training_file='file-N6VXiPOyMBIzDMMeM2kxOim6', validation_file=None, estimated_finish=None, integrations=[], user_provided_suffix='modelo_hexing_fine_tuning_v2')\n",
    "\n",
    "FineTuningJob(id='ftjob-D2HzlCvluoXrEOnIwo77BaHz', created_at=1726758708, error=Error(code=None, message=None, param=None), fine_tuned_model=None, finished_at=None, hyperparameters=Hyperparameters(n_epochs=3, batch_size=1, learning_rate_multiplier=1.8), model='ft:gpt-4o-mini-2024-07-18:personal:modelo-hexing-fine-tuning-v2:A8wv2i7g', object='fine_tuning.job', organization_id='org-ZLtIC32rfZQgI0ZpY2QetCzY', result_files=[], seed=544776902, status='validating_files', trained_tokens=None, training_file='file-O1smvfZBf3DvB7c09YGpbQt0', validation_file=None, estimated_finish=None, integrations=[], user_provided_suffix='modelo_hexing_fine_tuning_v3')\n",
    "\n",
    "FineTuningJob(id='ftjob-D2HzlCvluoXrEOnIwo77BaHz', created_at=1726758708, error=Error(code=None, message=None, param=None), fine_tuned_model='ft:gpt-4o-mini-2024-07-18:personal:modelo-hexing-fine-tuning-v3:A9DZ4cli', finished_at=1726760457, hyperparameters=Hyperparameters(n_epochs=3, batch_size=1, learning_rate_multiplier=1.8), model='ft:gpt-4o-mini-2024-07-18:personal:modelo-hexing-fine-tuning-v2:A8wv2i7g', object='fine_tuning.job', organization_id='org-ZLtIC32rfZQgI0ZpY2QetCzY', result_files=['file-wWp0KdakAdn2EDDopzWHqLKT'], seed=544776902, status='succeeded', trained_tokens=529062, training_file='file-O1smvfZBf3DvB7c09YGpbQt0', validation_file=None, estimated_finish=None, integrations=[], user_provided_suffix='modelo_hexing_fine_tuning_v3')\n",
    "\n",
    "FineTuningJob(id='ftjob-RED0iTkoBNIouJR09AWBXiYD', created_at=1726846596, error=Error(code=None, message=None, param=None), fine_tuned_model='ft:gpt-4o-mini-2024-07-18:personal:modelo-hexing-fine-tuning-consultas:A9a3yEBu', finished_at=1726846941, hyperparameters=Hyperparameters(n_epochs=3, batch_size=1, learning_rate_multiplier=1.8), model='ft:gpt-4o-mini-2024-07-18:personal::A3UiuJ83', object='fine_tuning.job', organization_id='org-ZLtIC32rfZQgI0ZpY2QetCzY', result_files=['file-0V2Hnd9qlgQFxEDRhpJa5ZHt'], seed=1277692207, status='succeeded', trained_tokens=44352, training_file='file-u39M5Zj614FjSZYFqBBueUgw', validation_file=None, estimated_finish=None, integrations=[], user_provided_suffix='modelo_hexing_fine_tuning_consultas')\n",
    "\n",
    "FineTuningJob(id='ftjob-ZP2881VYR9N0eVTRoni9V9px', created_at=1726847469, error=Error(code=None, message=None, param=None), fine_tuned_model='ft:gpt-4o-mini-2024-07-18:personal:modelo-hexing-fine-tuning-consultas-v2:A9aHYMoE', finished_at=1726847782, hyperparameters=Hyperparameters(n_epochs=3, batch_size=1, learning_rate_multiplier=1.8), model='ft:gpt-4o-mini-2024-07-18:personal::A3UiuJ83', object='fine_tuning.job', organization_id='org-ZLtIC32rfZQgI0ZpY2QetCzY', result_files=['file-CfLZ8Uy9whpemra9wXImwC4s'], seed=1494167867, status='succeeded', trained_tokens=111531, training_file='file-uILFNC3ecUDfJ9J8BkwtrkJr', validation_file=None, estimated_finish=None, integrations=[], user_provided_suffix='modelo_hexing_fine_tuning_consultas_v2')\n",
    "\n",
    "FineTuningJob(id='ftjob-2aNWVzaJDHwt0UQ45gKBXBpN', created_at=1726848617, error=Error(code=None, message=None, param=None), fine_tuned_model='ft:gpt-4o-mini-2024-07-18:personal:modelo-hexing-fine-tuning-consultas-v3:A9aaSCsu', finished_at=1726848954, hyperparameters=Hyperparameters(n_epochs=3, batch_size=1, learning_rate_multiplier=1.8), model='ft:gpt-4o-mini-2024-07-18:personal:modelo-hexing-fine-tuning-consultas-v2:A9aHYMoE', object='fine_tuning.job', organization_id='org-ZLtIC32rfZQgI0ZpY2QetCzY', result_files=['file-fzMc6tIujdsKbzmI37rxcvoi'], seed=785694480, status='succeeded', trained_tokens=113196, training_file='file-sTBaST4RsSDckLOA2hBokMsO', validation_file=None, estimated_finish=None, integrations=[], user_provided_suffix='modelo_hexing_fine_tuning_consultas_v3')\n",
    "\n",
    "FineTuningJob(id='ftjob-R5W1UGZDGbmbd0O3oOthAiWe', created_at=1726867974, error=Error(code='invalid_training_file', message='The job failed due to an invalid training file. Invalid file format. Example 43 is not a valid JSON object.', param='training_file'), fine_tuned_model=None, finished_at=None, hyperparameters=Hyperparameters(n_epochs='auto', batch_size='auto', learning_rate_multiplier='auto'), model='ft:gpt-4o-mini-2024-07-18:personal:modelo-hexing-fine-tuning-consultas-v3:A9aaSCsu', object='fine_tuning.job', organization_id='org-ZLtIC32rfZQgI0ZpY2QetCzY', result_files=[], seed=459633285, status='failed', trained_tokens=None, training_file='file-wkCoqjKJwK3AwaUVLXBgbaZh', validation_file=None, estimated_finish=None, integrations=[], user_provided_suffix='modelo_hexing_fine_tuning_consultas_v4')\n",
    "\n",
    "\"\"\""
   ]
  },
  {
   "cell_type": "code",
   "execution_count": 4,
   "metadata": {},
   "outputs": [
    {
     "name": "stdout",
     "output_type": "stream",
     "text": [
      "FineTuningJobEvent(id='ftevent-sqphIdgvtBTd6YXtYSbFW1Hy', created_at=1726867985, level='error', message='The job failed due to an invalid training file. Invalid file format. Example 43 is not a valid JSON object.', object='fine_tuning.job.event', data={'error_code': 'invalid_training_file', 'error_param': 'training_file'}, type='message')\n",
      "FineTuningJobEvent(id='ftevent-qOlXinnDTbpzUB5pSOif1Vdu', created_at=1726867974, level='info', message='Validating training file: file-wkCoqjKJwK3AwaUVLXBgbaZh', object='fine_tuning.job.event', data={}, type='message')\n",
      "FineTuningJobEvent(id='ftevent-qCYzGjrYnF0hxdKDwKlpkptn', created_at=1726867974, level='info', message='Created fine-tuning job: ftjob-R5W1UGZDGbmbd0O3oOthAiWe', object='fine_tuning.job.event', data={}, type='message')\n"
     ]
    }
   ],
   "source": [
    "from openai import OpenAI\n",
    "import os\n",
    "from dotenv import load_dotenv\n",
    "\n",
    "load_dotenv()\n",
    "api_key = os.getenv('TOKEN')\n",
    "client = OpenAI(api_key=api_key)\n",
    "events = client.fine_tuning.jobs.list_events(fine_tuning_job_id=\"ftjob-R5W1UGZDGbmbd0O3oOthAiWe\", limit=10)\n",
    "for event in events:\n",
    "    print(event)\n"
   ]
  }
 ],
 "metadata": {
  "kernelspec": {
   "display_name": ".venv",
   "language": "python",
   "name": "python3"
  },
  "language_info": {
   "codemirror_mode": {
    "name": "ipython",
    "version": 3
   },
   "file_extension": ".py",
   "mimetype": "text/x-python",
   "name": "python",
   "nbconvert_exporter": "python",
   "pygments_lexer": "ipython3",
   "version": "3.12.5"
  }
 },
 "nbformat": 4,
 "nbformat_minor": 2
}
