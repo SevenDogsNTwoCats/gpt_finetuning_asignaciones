{
 "cells": [
  {
   "cell_type": "code",
   "execution_count": 42,
   "metadata": {},
   "outputs": [
    {
     "name": "stdout",
     "output_type": "stream",
     "text": [
      "Respuesta completa del modelo: Reporte de Evaluación:\n",
      "Descripción: Cualquier voltaje de fase inferior a 60 V y continúa durante 60 segundos\n",
      "\n"
     ]
    }
   ],
   "source": [
    "import openai\n",
    "import os\n",
    "from dotenv import load_dotenv\n",
    "\n",
    "load_dotenv()\n",
    "\n",
    "# Configura tu clave de API de OpenAI\n",
    "openai.api_key = os.getenv(\"TOKEN\")\n",
    "\n",
    "# Mensajes que se enviarán al modelo (prompt)\n",
    "\n",
    "\"\"\"\n",
    "{\"messages\": [{\"role\": \"system\", \"content\": \"Eres un asistente en ingeniería eléctrica que, basándote en comentarios históricos de analistas que pueden incluir algunos datos como el número de ticket, la clave del dispositivo, la fecha de análisis, la no conformidad identificada, si requiere o no una orden de servicio, el comentario del analista, si es recurrente, el mercado al que pertenece, el consumo promedio, el tipo de medida, y el circuito, intenta correlacionar e inferir si requiere o no una orden de servicio así como la clasificación de una criticidad, proporciona una justificación adecuada en tus respuestas.\"}, {\"role\": \"user\", \"content\": \"¿Requiere la clave 1484365 con el ticket TK-HEX-9158 del circuito NCO364, y fecha de análisis 2024-07-03 13:25:40, <<con la descripción  Medidor Hexing comunicando de forma correcta su rubro de operación corresponde a un fabrica, su perfil de corriente y consumo se observa inestable, este medidor presenta alarmas de corriente inversa en L1, en el rango solicitado para análisis se observa rangos con consumos cero con una duración de cinco días, en el acta se detalla que el cliente tiene actividad las 24 horas, se debe crear OS para realizar una revisión general de la instalación.>> una orden de servicio? ¿Es recurrente este problema? ¿Cuál es la no conformidad?\"}, {\"role\": \"assistant\", \"content\": \"Reporte de Evaluación:\\nTicket: TK-HEX-9158\\nClave: 1484365\\nCircuito: NCO364\\nRequiere Orden de Servicio: Sí\\nNo Conformidad: Disminución de consumo\\nEs Recurrente: No\\n\"}]}\n",
    "\n",
    "\"\"\"\n",
    "messages = [\n",
    "    {\n",
    "        \"role\": \"system\",\n",
    "         \"content\": \"Eres un asistente especializado en ingeniería eléctrica y detección de hurto de energía. \"\n",
    "            \"Tu tarea es, a partir de las alarmas con sus fechas y los comentarios históricos de analistas, \"\n",
    "            \"que pueden incluir datos como la clave del dispositivo, la fecha de análisis, \"\n",
    "            \"el comentario del analista, el tipo de medida y el circuito, \"\n",
    "            \"inferir si se requiere una orden de servicio, determinar la criticidad, \"\n",
    "            \"y proporcionar una justificación adecuada en tus respuestas.\"\n",
    "    },\n",
    "    {\n",
    "        \"role\": \"user\",\n",
    "        \"content\": \"La clave 1484365 del circuito NCO364, presenta en un periodo de 7 días:\"\n",
    "                    \"Manually Demand Reset\"\n",
    "                    \"Current Unbalance End\"\n",
    "                    \"Missing Voltage L3 Start\"\n",
    "                    \"claves del mismo circuito presentan caida de voltaje?\"\n",
    "    }\n",
    "]\n",
    "\n",
    "# Llamada al modelo fine-tuned\n",
    "response = openai.chat.completions.create(\n",
    "    model=\"ft:gpt-4o-mini-2024-07-18:personal:modelo-hexing:A4V3Cvaa\",  # Especifica tu modelo fine-tuned\n",
    "    messages=messages,\n",
    "    max_tokens=150\n",
    ")\n",
    "\n",
    "print(\"Respuesta completa del modelo:\", response.choices[0].message.content)\n",
    "\n",
    "# Extraer y mostrar la respuesta del modelo\n",
    "# respuesta = response['choices'][0]['message']['content']"
   ]
  },
  {
   "cell_type": "code",
   "execution_count": 18,
   "metadata": {},
   "outputs": [
    {
     "name": "stdout",
     "output_type": "stream",
     "text": [
      "Reporte de Evaluación:\n",
      "Clave: 1911628\n",
      "Circuito: RET289\n",
      "Requiere Orden de Servicio: Sí\n",
      "Es Recurrente: No\n",
      "Criticidad: Alta\n",
      "Justificación: Alarma de remoción indica posible hurto o manipulación.\n"
     ]
    }
   ],
   "source": [
    "import openai\n",
    "import os\n",
    "from dotenv import load_dotenv\n",
    "\n",
    "load_dotenv()\n",
    "\n",
    "api_key = os.getenv(\"TOKEN\")\n",
    "client = openai.OpenAI(api_key=api_key)\n",
    "\n",
    "messages = [\n",
    "    {\n",
    "        \"role\": \"system\",\n",
    "         \"content\": \"Eres un asistente especializado en ingeniería eléctrica y detección de hurto de energía. \"\n",
    "            \"Tu tarea es, a partir de las alarmas con sus fechas y los comentarios históricos de analistas, \"\n",
    "            \"que pueden incluir datos como la clave del dispositivo, la fecha de análisis, \"\n",
    "            \"el comentario del analista, el tipo de medida y el circuito, \"\n",
    "            # \"Si solo el medidor presenta caída de consumo y no todo el circuito, probablemente sea un hurto de energía, y requiera orden de servicio \"\n",
    "            \"Las alarmas con mayor criticidad son las que requieren una orden de servicio, \"\n",
    "            \"Ten en cuenta la criticidad de las alarmas de los medidores para determinar si se requiere una orden de servicio, \"\n",
    "            # \"Si el medidor no comunica, probablemente sea un problema de comunicación y requiera orden de servicio\"\n",
    "            \"explica las alarmas que se presentan en el medidor y si se requiere una orden de servicio, \"\n",
    "            \"y proporcionar una justificación adecuada en tus respuestas en por lo menos 10 palabras.\"\n",
    "    },\n",
    "    {\n",
    "        \"role\": \"user\",\n",
    "        \"content\": \"La clave 1911628 del circuito RET289, presenta:\"\n",
    "                    \"Presenta las siguientes alarmas:\"\n",
    "                    \"Current Unbalance End\"\n",
    "                    \"Missing Voltage L3 Start\"\n",
    "                    \"Manually Demand Reset\"\n",
    "                    \"¿Requiere una orden de servicio?\"\n",
    "                    \"¿Este cliente es recurrente historicamente?\"\n",
    "                    \"¿Cuál es la criticidad?\"\n",
    "                    \"justifica tu respuesta\"\n",
    "    }\n",
    "]\n",
    "\n",
    "\n",
    "\n",
    "\n",
    "completion = client.chat.completions.create(\n",
    "    model=\"ft:gpt-4o-mini-2024-07-18:personal::A3UiuJ83\",  # Especifica tu modelo fine-tuned\n",
    "    # model=\"ft:gpt-4o-mini-2024-07-18:personal:modelo-hexing-fine-tuning-v3:A9DZ4cli\",  # Especifica tu modelo fine-tuned\n",
    "    messages=messages,\n",
    "    max_tokens=100\n",
    ")\n",
    "\n",
    "response = completion.choices[0].message.content\n",
    "\n",
    "print(response)"
   ]
  },
  {
   "cell_type": "code",
   "execution_count": null,
   "metadata": {},
   "outputs": [],
   "source": [
    "Reporte de Evaluación:\n",
    "Clave: 1911628\n",
    "Circuito: RET289\n",
    "Requiere Orden de Servicio: Sí\n",
    "Es Recurrente: No\n",
    "Criticidad: Alta\n",
    "\n",
    "Evaluación:\n",
    "El medidor presenta tres alarmas: \"Manually Demand Reset\", \"Current Unbalance\", y \"Missing Voltage L3\". La señal de voltaje de L3 está ausente, lo que indica un factor de potencia negativo y contribuye a la desbalance de tensión, lo que puede afectar el rendimiento del sistema y provocar daños. Además, la reducción de factor de potencia y su inversión pueden generar un aumento en el consumo, lo que se traduce en mayores costos para el cliente. Es necesario realizar una orden de servicio para corregir esta situación y evitar mayores problemas.\n",
    "\n",
    "\n"
   ]
  }
 ],
 "metadata": {
  "kernelspec": {
   "display_name": ".venv",
   "language": "python",
   "name": "python3"
  },
  "language_info": {
   "codemirror_mode": {
    "name": "ipython",
    "version": 3
   },
   "file_extension": ".py",
   "mimetype": "text/x-python",
   "name": "python",
   "nbconvert_exporter": "python",
   "pygments_lexer": "ipython3",
   "version": "3.12.5"
  }
 },
 "nbformat": 4,
 "nbformat_minor": 2
}
